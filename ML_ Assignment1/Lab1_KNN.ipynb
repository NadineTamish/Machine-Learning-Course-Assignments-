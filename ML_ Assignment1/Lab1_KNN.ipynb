{
 "cells": [
  {
   "cell_type": "markdown",
   "metadata": {
    "id": "WmLfG7GL5_HF"
   },
   "source": [
    "\n",
    "This code imports libraries for data manipulation (pandas), machine learning (sklearn), and visualization (matplotlib) to build and evaluate a KNN classification model."
   ]
  },
  {
   "cell_type": "code",
   "execution_count": 1,
   "metadata": {
    "id": "44ymivFy6Biy"
   },
   "outputs": [],
   "source": [
    "import pandas as pd\n",
    "from sklearn.model_selection import train_test_split\n",
    "from sklearn.neighbors import KNeighborsClassifier\n",
    "from sklearn.metrics import accuracy_score, precision_score, recall_score, f1_score, confusion_matrix\n",
    "from sklearn.preprocessing import StandardScaler\n",
    "import matplotlib.pyplot as plt"
   ]
  },
  {
   "cell_type": "markdown",
   "metadata": {
    "id": "cAjUbkIf6aSa"
   },
   "source": [
    " Loading the dataset"
   ]
  },
  {
   "cell_type": "code",
   "execution_count": 2,
   "metadata": {
    "id": "Wu5Y3w22EDjw"
   },
   "outputs": [],
   "source": [
    "data = pd.read_csv('magic04.data',header=None)"
   ]
  },
  {
   "cell_type": "markdown",
   "metadata": {
    "id": "fAVsUC9L6vVY"
   },
   "source": [
    "This line filters the DataFrame to create two subsets for classes 'g' and 'h', and then randomly samples 6,688 instances from the 'g' subset."
   ]
  },
  {
   "cell_type": "code",
   "execution_count": 3,
   "metadata": {
    "id": "B9975LfZEG4w"
   },
   "outputs": [],
   "source": [
    "g_unb=data[data[10]=='g']\n",
    "h=data[data[10]=='h']\n",
    "g=g_unb.sample(n=6688,random_state=42)"
   ]
  },
  {
   "cell_type": "markdown",
   "metadata": {
    "id": "i7cqNAny68Xi"
   },
   "source": [
    "This line concatenates the sampled 'g' and 'h' DataFrames, shuffles the combined data randomly, and resets the index without adding the old index as a column"
   ]
  },
  {
   "cell_type": "code",
   "execution_count": 4,
   "metadata": {
    "colab": {
     "base_uri": "https://localhost:8080/",
     "height": 423
    },
    "id": "xTWtNMY5ETEq",
    "outputId": "07a437c7-01ca-4188-d782-e92e269c0beb"
   },
   "outputs": [
    {
     "data": {
      "application/vnd.google.colaboratory.intrinsic+json": {
       "summary": "{\n  \"name\": \"balanced\",\n  \"rows\": 13376,\n  \"fields\": [\n    {\n      \"column\": 0,\n      \"properties\": {\n        \"dtype\": \"number\",\n        \"std\": 47.031303135558126,\n        \"min\": 4.2835,\n        \"max\": 334.177,\n        \"num_unique_values\": 13140,\n        \"samples\": [\n          21.8698,\n          13.771,\n          16.9233\n        ],\n        \"semantic_type\": \"\",\n        \"description\": \"\"\n      }\n    },\n    {\n      \"column\": 1,\n      \"properties\": {\n        \"dtype\": \"number\",\n        \"std\": 20.891637802957863,\n        \"min\": 0.0,\n        \"max\": 256.382,\n        \"num_unique_values\": 12923,\n        \"samples\": [\n          10.3934,\n          16.4931,\n          28.1931\n        ],\n        \"semantic_type\": \"\",\n        \"description\": \"\"\n      }\n    },\n    {\n      \"column\": 2,\n      \"properties\": {\n        \"dtype\": \"number\",\n        \"std\": 0.4758873032435307,\n        \"min\": 1.9413,\n        \"max\": 5.3233,\n        \"num_unique_values\": 6371,\n        \"samples\": [\n          2.6794,\n          2.4601,\n          3.5155\n        ],\n        \"semantic_type\": \"\",\n        \"description\": \"\"\n      }\n    },\n    {\n      \"column\": 3,\n      \"properties\": {\n        \"dtype\": \"number\",\n        \"std\": 0.18420870191155866,\n        \"min\": 0.0131,\n        \"max\": 0.893,\n        \"num_unique_values\": 5849,\n        \"samples\": [\n          0.6409,\n          0.1158,\n          0.7095\n        ],\n        \"semantic_type\": \"\",\n        \"description\": \"\"\n      }\n    },\n    {\n      \"column\": 4,\n      \"properties\": {\n        \"dtype\": \"number\",\n        \"std\": 0.11197213633094548,\n        \"min\": 0.0003,\n        \"max\": 0.6752,\n        \"num_unique_values\": 4153,\n        \"samples\": [\n          0.1408,\n          0.5125,\n          0.2757\n        ],\n        \"semantic_type\": \"\",\n        \"description\": \"\"\n      }\n    },\n    {\n      \"column\": 5,\n      \"properties\": {\n        \"dtype\": \"number\",\n        \"std\": 65.42903199625877,\n        \"min\": -457.9161,\n        \"max\": 575.2407,\n        \"num_unique_values\": 13169,\n        \"samples\": [\n          -126.012,\n          40.3222,\n          -7.6944\n        ],\n        \"semantic_type\": \"\",\n        \"description\": \"\"\n      }\n    },\n    {\n      \"column\": 6,\n      \"properties\": {\n        \"dtype\": \"number\",\n        \"std\": 56.421632745869914,\n        \"min\": -331.78,\n        \"max\": 238.321,\n        \"num_unique_values\": 13157,\n        \"samples\": [\n          3.091,\n          75.7577,\n          61.0722\n        ],\n        \"semantic_type\": \"\",\n        \"description\": \"\"\n      }\n    },\n    {\n      \"column\": 7,\n      \"properties\": {\n        \"dtype\": \"number\",\n        \"std\": 23.20206924537375,\n        \"min\": -205.8947,\n        \"max\": 179.851,\n        \"num_unique_values\": 13008,\n        \"samples\": [\n          -5.1025,\n          5.7868,\n          -16.4659\n        ],\n        \"semantic_type\": \"\",\n        \"description\": \"\"\n      }\n    },\n    {\n      \"column\": 8,\n      \"properties\": {\n        \"dtype\": \"number\",\n        \"std\": 26.972685542664603,\n        \"min\": 0.0002,\n        \"max\": 90.0,\n        \"num_unique_values\": 12876,\n        \"samples\": [\n          4.9101,\n          69.9841,\n          86.4242\n        ],\n        \"semantic_type\": \"\",\n        \"description\": \"\"\n      }\n    },\n    {\n      \"column\": 9,\n      \"properties\": {\n        \"dtype\": \"number\",\n        \"std\": 76.36621583562456,\n        \"min\": 1.2826,\n        \"max\": 495.561,\n        \"num_unique_values\": 13075,\n        \"samples\": [\n          198.018,\n          168.24,\n          213.751\n        ],\n        \"semantic_type\": \"\",\n        \"description\": \"\"\n      }\n    },\n    {\n      \"column\": 10,\n      \"properties\": {\n        \"dtype\": \"category\",\n        \"num_unique_values\": 2,\n        \"samples\": [\n          \"g\",\n          \"h\"\n        ],\n        \"semantic_type\": \"\",\n        \"description\": \"\"\n      }\n    }\n  ]\n}",
       "type": "dataframe"
      },
      "text/html": [
       "\n",
       "  <div id=\"df-79a4adbf-702a-4192-84cc-6eeef025c1f0\" class=\"colab-df-container\">\n",
       "    <div>\n",
       "<style scoped>\n",
       "    .dataframe tbody tr th:only-of-type {\n",
       "        vertical-align: middle;\n",
       "    }\n",
       "\n",
       "    .dataframe tbody tr th {\n",
       "        vertical-align: top;\n",
       "    }\n",
       "\n",
       "    .dataframe thead th {\n",
       "        text-align: right;\n",
       "    }\n",
       "</style>\n",
       "<table border=\"1\" class=\"dataframe\">\n",
       "  <thead>\n",
       "    <tr style=\"text-align: right;\">\n",
       "      <th></th>\n",
       "      <th>0</th>\n",
       "      <th>1</th>\n",
       "      <th>2</th>\n",
       "      <th>3</th>\n",
       "      <th>4</th>\n",
       "      <th>5</th>\n",
       "      <th>6</th>\n",
       "      <th>7</th>\n",
       "      <th>8</th>\n",
       "      <th>9</th>\n",
       "      <th>10</th>\n",
       "    </tr>\n",
       "  </thead>\n",
       "  <tbody>\n",
       "    <tr>\n",
       "      <th>0</th>\n",
       "      <td>16.2152</td>\n",
       "      <td>13.0743</td>\n",
       "      <td>2.4553</td>\n",
       "      <td>0.5431</td>\n",
       "      <td>0.3064</td>\n",
       "      <td>-10.3789</td>\n",
       "      <td>-13.1290</td>\n",
       "      <td>-0.1040</td>\n",
       "      <td>45.8852</td>\n",
       "      <td>185.6668</td>\n",
       "      <td>h</td>\n",
       "    </tr>\n",
       "    <tr>\n",
       "      <th>1</th>\n",
       "      <td>13.1500</td>\n",
       "      <td>10.9523</td>\n",
       "      <td>2.1477</td>\n",
       "      <td>0.7687</td>\n",
       "      <td>0.3950</td>\n",
       "      <td>-14.8886</td>\n",
       "      <td>2.6711</td>\n",
       "      <td>11.8531</td>\n",
       "      <td>28.5530</td>\n",
       "      <td>192.1400</td>\n",
       "      <td>g</td>\n",
       "    </tr>\n",
       "    <tr>\n",
       "      <th>2</th>\n",
       "      <td>126.0560</td>\n",
       "      <td>35.5809</td>\n",
       "      <td>3.5832</td>\n",
       "      <td>0.2854</td>\n",
       "      <td>0.1441</td>\n",
       "      <td>-30.9713</td>\n",
       "      <td>-139.7062</td>\n",
       "      <td>-33.4830</td>\n",
       "      <td>16.0535</td>\n",
       "      <td>324.4922</td>\n",
       "      <td>h</td>\n",
       "    </tr>\n",
       "    <tr>\n",
       "      <th>3</th>\n",
       "      <td>29.5490</td>\n",
       "      <td>14.1175</td>\n",
       "      <td>2.3692</td>\n",
       "      <td>0.3590</td>\n",
       "      <td>0.1902</td>\n",
       "      <td>37.1775</td>\n",
       "      <td>19.8095</td>\n",
       "      <td>-8.8034</td>\n",
       "      <td>0.9098</td>\n",
       "      <td>145.2470</td>\n",
       "      <td>g</td>\n",
       "    </tr>\n",
       "    <tr>\n",
       "      <th>4</th>\n",
       "      <td>69.2540</td>\n",
       "      <td>34.3016</td>\n",
       "      <td>3.1916</td>\n",
       "      <td>0.1173</td>\n",
       "      <td>0.1132</td>\n",
       "      <td>-30.2818</td>\n",
       "      <td>73.8184</td>\n",
       "      <td>21.3775</td>\n",
       "      <td>24.9091</td>\n",
       "      <td>279.9318</td>\n",
       "      <td>h</td>\n",
       "    </tr>\n",
       "    <tr>\n",
       "      <th>...</th>\n",
       "      <td>...</td>\n",
       "      <td>...</td>\n",
       "      <td>...</td>\n",
       "      <td>...</td>\n",
       "      <td>...</td>\n",
       "      <td>...</td>\n",
       "      <td>...</td>\n",
       "      <td>...</td>\n",
       "      <td>...</td>\n",
       "      <td>...</td>\n",
       "      <td>...</td>\n",
       "    </tr>\n",
       "    <tr>\n",
       "      <th>13371</th>\n",
       "      <td>34.7228</td>\n",
       "      <td>13.3626</td>\n",
       "      <td>2.6191</td>\n",
       "      <td>0.4639</td>\n",
       "      <td>0.2368</td>\n",
       "      <td>-43.1927</td>\n",
       "      <td>13.5598</td>\n",
       "      <td>-5.3328</td>\n",
       "      <td>42.6660</td>\n",
       "      <td>130.7520</td>\n",
       "      <td>h</td>\n",
       "    </tr>\n",
       "    <tr>\n",
       "      <th>13372</th>\n",
       "      <td>23.8603</td>\n",
       "      <td>14.8311</td>\n",
       "      <td>2.4224</td>\n",
       "      <td>0.5104</td>\n",
       "      <td>0.2703</td>\n",
       "      <td>-9.5178</td>\n",
       "      <td>-12.7220</td>\n",
       "      <td>12.4322</td>\n",
       "      <td>0.5570</td>\n",
       "      <td>98.4508</td>\n",
       "      <td>g</td>\n",
       "    </tr>\n",
       "    <tr>\n",
       "      <th>13373</th>\n",
       "      <td>40.9787</td>\n",
       "      <td>17.3368</td>\n",
       "      <td>2.8582</td>\n",
       "      <td>0.3410</td>\n",
       "      <td>0.1823</td>\n",
       "      <td>38.1097</td>\n",
       "      <td>39.5081</td>\n",
       "      <td>-9.6327</td>\n",
       "      <td>16.1810</td>\n",
       "      <td>148.8410</td>\n",
       "      <td>g</td>\n",
       "    </tr>\n",
       "    <tr>\n",
       "      <th>13374</th>\n",
       "      <td>23.8026</td>\n",
       "      <td>10.1636</td>\n",
       "      <td>2.2625</td>\n",
       "      <td>0.5628</td>\n",
       "      <td>0.3087</td>\n",
       "      <td>32.1961</td>\n",
       "      <td>-16.3031</td>\n",
       "      <td>-9.6851</td>\n",
       "      <td>20.3915</td>\n",
       "      <td>108.5820</td>\n",
       "      <td>g</td>\n",
       "    </tr>\n",
       "    <tr>\n",
       "      <th>13375</th>\n",
       "      <td>34.5838</td>\n",
       "      <td>16.9877</td>\n",
       "      <td>2.5575</td>\n",
       "      <td>0.3296</td>\n",
       "      <td>0.1648</td>\n",
       "      <td>33.3383</td>\n",
       "      <td>17.1160</td>\n",
       "      <td>7.0740</td>\n",
       "      <td>0.1475</td>\n",
       "      <td>135.9360</td>\n",
       "      <td>h</td>\n",
       "    </tr>\n",
       "  </tbody>\n",
       "</table>\n",
       "<p>13376 rows × 11 columns</p>\n",
       "</div>\n",
       "    <div class=\"colab-df-buttons\">\n",
       "\n",
       "  <div class=\"colab-df-container\">\n",
       "    <button class=\"colab-df-convert\" onclick=\"convertToInteractive('df-79a4adbf-702a-4192-84cc-6eeef025c1f0')\"\n",
       "            title=\"Convert this dataframe to an interactive table.\"\n",
       "            style=\"display:none;\">\n",
       "\n",
       "  <svg xmlns=\"http://www.w3.org/2000/svg\" height=\"24px\" viewBox=\"0 -960 960 960\">\n",
       "    <path d=\"M120-120v-720h720v720H120Zm60-500h600v-160H180v160Zm220 220h160v-160H400v160Zm0 220h160v-160H400v160ZM180-400h160v-160H180v160Zm440 0h160v-160H620v160ZM180-180h160v-160H180v160Zm440 0h160v-160H620v160Z\"/>\n",
       "  </svg>\n",
       "    </button>\n",
       "\n",
       "  <style>\n",
       "    .colab-df-container {\n",
       "      display:flex;\n",
       "      gap: 12px;\n",
       "    }\n",
       "\n",
       "    .colab-df-convert {\n",
       "      background-color: #E8F0FE;\n",
       "      border: none;\n",
       "      border-radius: 50%;\n",
       "      cursor: pointer;\n",
       "      display: none;\n",
       "      fill: #1967D2;\n",
       "      height: 32px;\n",
       "      padding: 0 0 0 0;\n",
       "      width: 32px;\n",
       "    }\n",
       "\n",
       "    .colab-df-convert:hover {\n",
       "      background-color: #E2EBFA;\n",
       "      box-shadow: 0px 1px 2px rgba(60, 64, 67, 0.3), 0px 1px 3px 1px rgba(60, 64, 67, 0.15);\n",
       "      fill: #174EA6;\n",
       "    }\n",
       "\n",
       "    .colab-df-buttons div {\n",
       "      margin-bottom: 4px;\n",
       "    }\n",
       "\n",
       "    [theme=dark] .colab-df-convert {\n",
       "      background-color: #3B4455;\n",
       "      fill: #D2E3FC;\n",
       "    }\n",
       "\n",
       "    [theme=dark] .colab-df-convert:hover {\n",
       "      background-color: #434B5C;\n",
       "      box-shadow: 0px 1px 3px 1px rgba(0, 0, 0, 0.15);\n",
       "      filter: drop-shadow(0px 1px 2px rgba(0, 0, 0, 0.3));\n",
       "      fill: #FFFFFF;\n",
       "    }\n",
       "  </style>\n",
       "\n",
       "    <script>\n",
       "      const buttonEl =\n",
       "        document.querySelector('#df-79a4adbf-702a-4192-84cc-6eeef025c1f0 button.colab-df-convert');\n",
       "      buttonEl.style.display =\n",
       "        google.colab.kernel.accessAllowed ? 'block' : 'none';\n",
       "\n",
       "      async function convertToInteractive(key) {\n",
       "        const element = document.querySelector('#df-79a4adbf-702a-4192-84cc-6eeef025c1f0');\n",
       "        const dataTable =\n",
       "          await google.colab.kernel.invokeFunction('convertToInteractive',\n",
       "                                                    [key], {});\n",
       "        if (!dataTable) return;\n",
       "\n",
       "        const docLinkHtml = 'Like what you see? Visit the ' +\n",
       "          '<a target=\"_blank\" href=https://colab.research.google.com/notebooks/data_table.ipynb>data table notebook</a>'\n",
       "          + ' to learn more about interactive tables.';\n",
       "        element.innerHTML = '';\n",
       "        dataTable['output_type'] = 'display_data';\n",
       "        await google.colab.output.renderOutput(dataTable, element);\n",
       "        const docLink = document.createElement('div');\n",
       "        docLink.innerHTML = docLinkHtml;\n",
       "        element.appendChild(docLink);\n",
       "      }\n",
       "    </script>\n",
       "  </div>\n",
       "\n",
       "\n",
       "<div id=\"df-8d61eae1-88ac-4855-a244-d58628181cb8\">\n",
       "  <button class=\"colab-df-quickchart\" onclick=\"quickchart('df-8d61eae1-88ac-4855-a244-d58628181cb8')\"\n",
       "            title=\"Suggest charts\"\n",
       "            style=\"display:none;\">\n",
       "\n",
       "<svg xmlns=\"http://www.w3.org/2000/svg\" height=\"24px\"viewBox=\"0 0 24 24\"\n",
       "     width=\"24px\">\n",
       "    <g>\n",
       "        <path d=\"M19 3H5c-1.1 0-2 .9-2 2v14c0 1.1.9 2 2 2h14c1.1 0 2-.9 2-2V5c0-1.1-.9-2-2-2zM9 17H7v-7h2v7zm4 0h-2V7h2v10zm4 0h-2v-4h2v4z\"/>\n",
       "    </g>\n",
       "</svg>\n",
       "  </button>\n",
       "\n",
       "<style>\n",
       "  .colab-df-quickchart {\n",
       "      --bg-color: #E8F0FE;\n",
       "      --fill-color: #1967D2;\n",
       "      --hover-bg-color: #E2EBFA;\n",
       "      --hover-fill-color: #174EA6;\n",
       "      --disabled-fill-color: #AAA;\n",
       "      --disabled-bg-color: #DDD;\n",
       "  }\n",
       "\n",
       "  [theme=dark] .colab-df-quickchart {\n",
       "      --bg-color: #3B4455;\n",
       "      --fill-color: #D2E3FC;\n",
       "      --hover-bg-color: #434B5C;\n",
       "      --hover-fill-color: #FFFFFF;\n",
       "      --disabled-bg-color: #3B4455;\n",
       "      --disabled-fill-color: #666;\n",
       "  }\n",
       "\n",
       "  .colab-df-quickchart {\n",
       "    background-color: var(--bg-color);\n",
       "    border: none;\n",
       "    border-radius: 50%;\n",
       "    cursor: pointer;\n",
       "    display: none;\n",
       "    fill: var(--fill-color);\n",
       "    height: 32px;\n",
       "    padding: 0;\n",
       "    width: 32px;\n",
       "  }\n",
       "\n",
       "  .colab-df-quickchart:hover {\n",
       "    background-color: var(--hover-bg-color);\n",
       "    box-shadow: 0 1px 2px rgba(60, 64, 67, 0.3), 0 1px 3px 1px rgba(60, 64, 67, 0.15);\n",
       "    fill: var(--button-hover-fill-color);\n",
       "  }\n",
       "\n",
       "  .colab-df-quickchart-complete:disabled,\n",
       "  .colab-df-quickchart-complete:disabled:hover {\n",
       "    background-color: var(--disabled-bg-color);\n",
       "    fill: var(--disabled-fill-color);\n",
       "    box-shadow: none;\n",
       "  }\n",
       "\n",
       "  .colab-df-spinner {\n",
       "    border: 2px solid var(--fill-color);\n",
       "    border-color: transparent;\n",
       "    border-bottom-color: var(--fill-color);\n",
       "    animation:\n",
       "      spin 1s steps(1) infinite;\n",
       "  }\n",
       "\n",
       "  @keyframes spin {\n",
       "    0% {\n",
       "      border-color: transparent;\n",
       "      border-bottom-color: var(--fill-color);\n",
       "      border-left-color: var(--fill-color);\n",
       "    }\n",
       "    20% {\n",
       "      border-color: transparent;\n",
       "      border-left-color: var(--fill-color);\n",
       "      border-top-color: var(--fill-color);\n",
       "    }\n",
       "    30% {\n",
       "      border-color: transparent;\n",
       "      border-left-color: var(--fill-color);\n",
       "      border-top-color: var(--fill-color);\n",
       "      border-right-color: var(--fill-color);\n",
       "    }\n",
       "    40% {\n",
       "      border-color: transparent;\n",
       "      border-right-color: var(--fill-color);\n",
       "      border-top-color: var(--fill-color);\n",
       "    }\n",
       "    60% {\n",
       "      border-color: transparent;\n",
       "      border-right-color: var(--fill-color);\n",
       "    }\n",
       "    80% {\n",
       "      border-color: transparent;\n",
       "      border-right-color: var(--fill-color);\n",
       "      border-bottom-color: var(--fill-color);\n",
       "    }\n",
       "    90% {\n",
       "      border-color: transparent;\n",
       "      border-bottom-color: var(--fill-color);\n",
       "    }\n",
       "  }\n",
       "</style>\n",
       "\n",
       "  <script>\n",
       "    async function quickchart(key) {\n",
       "      const quickchartButtonEl =\n",
       "        document.querySelector('#' + key + ' button');\n",
       "      quickchartButtonEl.disabled = true;  // To prevent multiple clicks.\n",
       "      quickchartButtonEl.classList.add('colab-df-spinner');\n",
       "      try {\n",
       "        const charts = await google.colab.kernel.invokeFunction(\n",
       "            'suggestCharts', [key], {});\n",
       "      } catch (error) {\n",
       "        console.error('Error during call to suggestCharts:', error);\n",
       "      }\n",
       "      quickchartButtonEl.classList.remove('colab-df-spinner');\n",
       "      quickchartButtonEl.classList.add('colab-df-quickchart-complete');\n",
       "    }\n",
       "    (() => {\n",
       "      let quickchartButtonEl =\n",
       "        document.querySelector('#df-8d61eae1-88ac-4855-a244-d58628181cb8 button');\n",
       "      quickchartButtonEl.style.display =\n",
       "        google.colab.kernel.accessAllowed ? 'block' : 'none';\n",
       "    })();\n",
       "  </script>\n",
       "</div>\n",
       "\n",
       "    </div>\n",
       "  </div>\n"
      ],
      "text/plain": [
       "             0        1       2       3       4        5         6        7   \\\n",
       "0       16.2152  13.0743  2.4553  0.5431  0.3064 -10.3789  -13.1290  -0.1040   \n",
       "1       13.1500  10.9523  2.1477  0.7687  0.3950 -14.8886    2.6711  11.8531   \n",
       "2      126.0560  35.5809  3.5832  0.2854  0.1441 -30.9713 -139.7062 -33.4830   \n",
       "3       29.5490  14.1175  2.3692  0.3590  0.1902  37.1775   19.8095  -8.8034   \n",
       "4       69.2540  34.3016  3.1916  0.1173  0.1132 -30.2818   73.8184  21.3775   \n",
       "...         ...      ...     ...     ...     ...      ...       ...      ...   \n",
       "13371   34.7228  13.3626  2.6191  0.4639  0.2368 -43.1927   13.5598  -5.3328   \n",
       "13372   23.8603  14.8311  2.4224  0.5104  0.2703  -9.5178  -12.7220  12.4322   \n",
       "13373   40.9787  17.3368  2.8582  0.3410  0.1823  38.1097   39.5081  -9.6327   \n",
       "13374   23.8026  10.1636  2.2625  0.5628  0.3087  32.1961  -16.3031  -9.6851   \n",
       "13375   34.5838  16.9877  2.5575  0.3296  0.1648  33.3383   17.1160   7.0740   \n",
       "\n",
       "            8         9  10  \n",
       "0      45.8852  185.6668  h  \n",
       "1      28.5530  192.1400  g  \n",
       "2      16.0535  324.4922  h  \n",
       "3       0.9098  145.2470  g  \n",
       "4      24.9091  279.9318  h  \n",
       "...        ...       ... ..  \n",
       "13371  42.6660  130.7520  h  \n",
       "13372   0.5570   98.4508  g  \n",
       "13373  16.1810  148.8410  g  \n",
       "13374  20.3915  108.5820  g  \n",
       "13375   0.1475  135.9360  h  \n",
       "\n",
       "[13376 rows x 11 columns]"
      ]
     },
     "execution_count": 4,
     "metadata": {},
     "output_type": "execute_result"
    }
   ],
   "source": [
    "balanced=pd.concat([g,h]).sample(frac=1, random_state=42)\n",
    "balanced.reset_index(drop=True)"
   ]
  },
  {
   "cell_type": "markdown",
   "metadata": {
    "id": "KsI30rVi7ACx"
   },
   "source": [
    "Defining the feature set by dropping the 10th column"
   ]
  },
  {
   "cell_type": "code",
   "execution_count": 5,
   "metadata": {
    "id": "_voSEh7GEYgw"
   },
   "outputs": [],
   "source": [
    "x=balanced.drop(10,axis=1)\n",
    "y=balanced[10]"
   ]
  },
  {
   "cell_type": "markdown",
   "metadata": {
    "id": "5roDCjpqtFYi"
   },
   "source": [
    "Normalizing the features"
   ]
  },
  {
   "cell_type": "code",
   "execution_count": 6,
   "metadata": {
    "id": "GlUAeOGVtCi0"
   },
   "outputs": [],
   "source": [
    "scaler = StandardScaler()\n",
    "x = scaler.fit_transform(x)\n"
   ]
  },
  {
   "cell_type": "markdown",
   "metadata": {
    "id": "lSJJtJ-j7MqL"
   },
   "source": [
    "Splitting data into training, validation, and test sets"
   ]
  },
  {
   "cell_type": "code",
   "execution_count": 7,
   "metadata": {
    "id": "jdOqqxUdEbSR"
   },
   "outputs": [],
   "source": [
    "x_train,x_temp,y_train,y_temp=train_test_split(x,y,test_size=0.3,random_state=42)\n",
    "x_validation,x_test,y_validation,y_test=train_test_split(x_temp,y_temp,test_size=0.5,random_state=42)"
   ]
  },
  {
   "cell_type": "markdown",
   "metadata": {
    "id": "M0_7vchn7aJL"
   },
   "source": [
    "\n",
    "This loop trains a KNN classifier for different values of k, predicts validation outcomes, and calculates accuracy, precision, recall, F1 score, and confusion matrix for each k"
   ]
  },
  {
   "cell_type": "code",
   "execution_count": 8,
   "metadata": {
    "id": "0qO3BGQKEhMA"
   },
   "outputs": [],
   "source": [
    "ks=[1,3,5,7,9,11]\n",
    "results = []\n",
    "for k in ks:\n",
    "    knn = KNeighborsClassifier(n_neighbors=k)\n",
    "    knn.fit(x_train, y_train)\n",
    "    y_pred = knn.predict(x_validation)\n",
    "    acc=accuracy_score(y_validation,y_pred)\n",
    "    precision=precision_score(y_validation,y_pred,pos_label=\"g\")\n",
    "    recall=recall_score(y_validation,y_pred,pos_label=\"g\")\n",
    "    f1=f1_score(y_validation,y_pred,pos_label=\"g\")\n",
    "    cm=confusion_matrix(y_validation,y_pred)\n",
    "\n",
    "    results.append({\n",
    "        'k': k,\n",
    "        'accuracy': acc,\n",
    "        'precision': precision,\n",
    "        'recall': recall,\n",
    "        'f1_score': f1,\n",
    "        'confusion_matrix': cm\n",
    "    })"
   ]
  },
  {
   "cell_type": "markdown",
   "metadata": {
    "id": "d3dJ_eSz7mxq"
   },
   "source": [
    "\n",
    "This lines finds the best k based on the highest F1 score from the results, then trains a KNN classifier with that k and makes predictions on the test set"
   ]
  },
  {
   "cell_type": "code",
   "execution_count": 9,
   "metadata": {
    "id": "bv-UMA2CErxw"
   },
   "outputs": [],
   "source": [
    "best_k = max(results,key=lambda x: x['f1_score'])['k']\n",
    "knn_best = KNeighborsClassifier(n_neighbors=best_k)\n",
    "knn_best.fit(x_train, y_train)\n",
    "y_pred_test = knn_best.predict(x_test)"
   ]
  },
  {
   "cell_type": "markdown",
   "metadata": {
    "id": "kZ2U9GHD74nG"
   },
   "source": [
    "This code calculates and prints the test set performance metrics (accuracy, precision, recall, F1 score, and confusion matrix) for the best k value determined earlier."
   ]
  },
  {
   "cell_type": "code",
   "execution_count": 10,
   "metadata": {
    "colab": {
     "base_uri": "https://localhost:8080/"
    },
    "id": "WZjlxbtBEwbc",
    "outputId": "98762f03-6423-4b67-e910-8481054ad646"
   },
   "outputs": [
    {
     "name": "stdout",
     "output_type": "stream",
     "text": [
      "Best k value based on F1 score: 7\n",
      "Test Set Metrics with Best k (7):\n",
      "Accuracy: 0.8017\n",
      "Precision: 0.7604\n",
      "Recall: 0.8634\n",
      "F1 Score: 0.8087\n",
      "Confusion Matrix:\n",
      "[[841 133]\n",
      " [265 768]]\n"
     ]
    }
   ],
   "source": [
    "test_accuracy = accuracy_score(y_test, y_pred_test)\n",
    "test_precision = precision_score(y_test, y_pred_test, pos_label='g')\n",
    "test_recall = recall_score(y_test, y_pred_test, pos_label='g')\n",
    "test_f1 = f1_score(y_test, y_pred_test, pos_label='g')\n",
    "test_cm = confusion_matrix(y_test, y_pred_test)\n",
    "print(f\"Best k value based on F1 score: {best_k}\")\n",
    "print(f\"Test Set Metrics with Best k ({best_k}):\")\n",
    "print(f\"Accuracy: {test_accuracy:.4f}\")\n",
    "print(f\"Precision: {test_precision:.4f}\")\n",
    "print(f\"Recall: {test_recall:.4f}\")\n",
    "print(f\"F1 Score: {test_f1:.4f}\")\n",
    "print(\"Confusion Matrix:\")\n",
    "print(test_cm)"
   ]
  },
  {
   "cell_type": "markdown",
   "metadata": {
    "id": "I0v5Z3918Rtj"
   },
   "source": [
    "This code prints the evaluation results (accuracy, precision, recall, F1 score, and confusion matrix) for each k value on the validation set"
   ]
  },
  {
   "cell_type": "code",
   "execution_count": 11,
   "metadata": {
    "colab": {
     "base_uri": "https://localhost:8080/"
    },
    "id": "eKPZ903lE6Gn",
    "outputId": "31e5877e-ebdc-46ab-f4da-0f04de2ca978"
   },
   "outputs": [
    {
     "name": "stdout",
     "output_type": "stream",
     "text": [
      "\n",
      "Results for each k value on Validation Set:\n",
      "k=1, Accuracy=0.7841, Precision=0.7661, Recall=0.8174, F1 Score=0.7909\n",
      "Confusion Matrix:\n",
      "[[819 183]\n",
      " [250 754]]\n",
      "\n",
      "k=3, Accuracy=0.8026, Precision=0.7725, Recall=0.8573, F1 Score=0.8127\n",
      "Confusion Matrix:\n",
      "[[859 143]\n",
      " [253 751]]\n",
      "\n",
      "k=5, Accuracy=0.8001, Precision=0.7629, Recall=0.8703, F1 Score=0.8131\n",
      "Confusion Matrix:\n",
      "[[872 130]\n",
      " [271 733]]\n",
      "\n",
      "k=7, Accuracy=0.8091, Precision=0.7670, Recall=0.8872, F1 Score=0.8228\n",
      "Confusion Matrix:\n",
      "[[889 113]\n",
      " [270 734]]\n",
      "\n",
      "k=9, Accuracy=0.8026, Precision=0.7608, Recall=0.8822, F1 Score=0.8170\n",
      "Confusion Matrix:\n",
      "[[884 118]\n",
      " [278 726]]\n",
      "\n",
      "k=11, Accuracy=0.8016, Precision=0.7608, Recall=0.8792, F1 Score=0.8157\n",
      "Confusion Matrix:\n",
      "[[881 121]\n",
      " [277 727]]\n",
      "\n"
     ]
    }
   ],
   "source": [
    "\n",
    "print(\"\\nResults for each k value on Validation Set:\")\n",
    "for result in results:\n",
    "    print(f\"k={result['k']}, Accuracy={result['accuracy']:.4f}, Precision={result['precision']:.4f}, \"\n",
    "          f\"Recall={result['recall']:.4f}, F1 Score={result['f1_score']:.4f}\")\n",
    "    print(\"Confusion Matrix:\")\n",
    "    print(result['confusion_matrix'])\n",
    "    print()"
   ]
  },
  {
   "cell_type": "markdown",
   "metadata": {
    "id": "9f667FKb9tEe"
   },
   "source": [
    "As k increases, accuracy peaks at k=5 before slightly declining, precision tends to rise, recall improves consistently, and F1 scores fluctuate minimally, suggesting that higher k values may enhance sensitivity without significantly sacrificing precision"
   ]
  },
  {
   "cell_type": "code",
   "execution_count": 12,
   "metadata": {
    "colab": {
     "base_uri": "https://localhost:8080/",
     "height": 486
    },
    "id": "qBWo7aEj7BST",
    "outputId": "c256a06f-d8cb-4348-ca88-11c109f49cac"
   },
   "outputs": [
    {
     "data": {
      "image/png": "[encoded data removed]",
      "text/plain": [
       "<Figure size 640x480 with 4 Axes>"
      ]
     },
     "metadata": {},
     "output_type": "display_data"
    }
   ],
   "source": [
    "\n",
    "results_df = pd.DataFrame(results)\n",
    "plt.subplot(2, 2, 1)\n",
    "plt.plot(results_df['k'], results_df['accuracy'], marker='o')\n",
    "plt.title('Accuracy for each k')\n",
    "plt.xlabel('k')\n",
    "plt.ylabel('Accuracy')\n",
    "\n",
    "# Plot precision\n",
    "plt.subplot(2, 2, 2)\n",
    "plt.plot(results_df['k'], results_df['precision'], marker='o', color='orange')\n",
    "plt.title('Precision for each k')\n",
    "plt.xlabel('k')\n",
    "plt.ylabel('Precision')\n",
    "\n",
    "# Plot recall\n",
    "plt.subplot(2, 2, 3)\n",
    "plt.plot(results_df['k'], results_df['recall'], marker='o', color='green')\n",
    "plt.title('Recall for each k')\n",
    "plt.xlabel('k')\n",
    "plt.ylabel('Recall')\n",
    "\n",
    "# Plot F1 score\n",
    "plt.subplot(2, 2, 4)\n",
    "plt.plot(results_df['k'], results_df['f1_score'], marker='o', color='red')\n",
    "plt.title('F1 Score for each k')\n",
    "plt.xlabel('k')\n",
    "plt.ylabel('F1 Score')\n",
    "\n",
    "plt.tight_layout()\n",
    "plt.show()"
   ]
  }
 ],
 "metadata": {
  "colab": {
   "provenance": []
  },
  "kernelspec": {
   "display_name": "Python 3 (ipykernel)",
   "language": "python",
   "name": "python3"
  },
  "language_info": {
   "codemirror_mode": {
    "name": "ipython",
    "version": 3
   },
   "file_extension": ".py",
   "mimetype": "text/x-python",
   "name": "python",
   "nbconvert_exporter": "python",
   "pygments_lexer": "ipython3",
   "version": "3.8.10"
  }
 },
 "nbformat": 4,
 "nbformat_minor": 4
}
